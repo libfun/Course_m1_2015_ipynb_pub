{
 "cells": [
  {
   "cell_type": "markdown",
   "metadata": {},
   "source": [
    "#Notebook for link prediciton analysis\n",
    "##Coursework 2015, HSE - DataSci\n",
    "###Sergey Korolev"
   ]
  },
  {
   "cell_type": "markdown",
   "metadata": {},
   "source": [
    "####First attempt, similarity based algorithms"
   ]
  },
  {
   "cell_type": "markdown",
   "metadata": {},
   "source": [
    "####Networks used:\n",
    "1. UciNet data - http://vlado.fmf.uni-lj.si/pub/networks/data/UciNet/UciData.htm\n",
    "2. Pajek datasets - http://vlado.fmf.uni-lj.si/pub/networks/data/default.htm\n",
    "3. ND - http://www3.nd.edu/~networks/resources.htm (possibly already in pajek ds)\n",
    "4. Alex Arenas - http://deim.urv.cat/~alexandre.arenas/data/welcome.htm\n",
    "5. Stanford nets - http://snap.stanford.edu/data/\n",
    "\n",
    "Really hope to sift through them or just write some interface to load them into networkx to work with them.\n",
    "\n",
    "#####All theoretical notes on the algroithms are quoted directly from Linyuan Lü, Tao Zhou, Link prediction in complex networks: A survey, Physica A 390, 2011"
   ]
  },
  {
   "cell_type": "code",
   "execution_count": 1,
   "metadata": {
    "collapsed": true
   },
   "outputs": [],
   "source": [
    "import numpy as np\n",
    "import matplotlib.pyplot as plt\n",
    "import networkx as nx\n",
    "import random\n",
    "import operator\n",
    "import pandas as pd\n",
    "%matplotlib inline"
   ]
  },
  {
   "cell_type": "code",
   "execution_count": 3,
   "metadata": {
    "collapsed": true
   },
   "outputs": [],
   "source": [
    "G = nx.karate_club_graph()"
   ]
  },
  {
   "cell_type": "code",
   "execution_count": 3,
   "metadata": {
    "collapsed": true
   },
   "outputs": [
    {
     "data": {
      "image/png": "[encoded data removed]",
      "text/plain": [
       "<matplotlib.figure.Figure at 0x3809b38>"
      ]
     },
     "metadata": {},
     "output_type": "display_data"
    }
   ],
   "source": [
    "pos = nx.spring_layout(G)\n",
    "nx.draw(G, pos)"
   ]
  },
  {
   "cell_type": "code",
   "execution_count": 13,
   "metadata": {
    "collapsed": true
   },
   "outputs": [],
   "source": [
    "def chunk(xs, n):\n",
    "    ys = list(xs)\n",
    "    random.shuffle(ys)\n",
    "    size = len(ys) // n\n",
    "    leftovers= ys[size*n:]\n",
    "    for c in xrange(n):\n",
    "        if leftovers:\n",
    "           extra= [ leftovers.pop() ] \n",
    "        else:\n",
    "           extra= []\n",
    "        yield ys[c*size:(c+1)*size] + extra"
   ]
  },
  {
   "cell_type": "markdown",
   "metadata": {},
   "source": [
    "####Common neighbours\n",
    "For a node x, let $\\Gamma(x)$ denote the set of neighbors of $x$. In common sense, two nodes, $x$ and $y$, are more likely to have a link if they have many common neighbors. The simplest measure of this neighborhood overlap is the directed count, namely\n",
    "$$s_{xy}^{CN} = |\\Gamma(x) \\cap \\Gamma(y)|,$$\n",
    "where $|Q|$ is the cardinality of the set $Q$. It is obvious that $s_{xy} = (A^2)_{xy}$, where $A$ is the adjacency matrix: $A_{xy} = 1$ if $x$ and $y$ are directly connected and $A_{xy} = 0$ otherwise. Note that, $(A^2)_{xy}$ is also the number of different paths with length 2 connecting $x$ and $y$. Newman [40] used this quantity in the study of collaboration networks, showing a positive correlation between the number of common neighbors and the probability that two scientists will collaborate in the future. Kossinets and Watts [14] analyzed a large-scale social network, suggesting that two students having many mutual friends are very probable to be friends in future. The following six indices are also based on the number of common neighbors, yet with different normalization methods."
   ]
  },
  {
   "cell_type": "code",
   "execution_count": 7,
   "metadata": {
    "collapsed": false
   },
   "outputs": [],
   "source": [
    "folds = [i for i in chunk(G.edges(), 10)]"
   ]
  },
  {
   "cell_type": "code",
   "execution_count": 8,
   "metadata": {
    "collapsed": true
   },
   "outputs": [],
   "source": [
    "subs = []\n",
    "for i in xrange(10):\n",
    "    graph = G.copy()\n",
    "    for c in folds[i]:\n",
    "        graph.remove_edge(*c)\n",
    "    subs.append(graph.copy())"
   ]
  },
  {
   "cell_type": "code",
   "execution_count": 7,
   "metadata": {
    "collapsed": false
   },
   "outputs": [],
   "source": [
    "def common_neighbours(folds, subs, symmetric = True, nfolds = 10):\n",
    "    nmis = len(folds[0])\n",
    "    step = 0\n",
    "    auc = []\n",
    "    for i in subs:\n",
    "        mat = np.array((nx.to_numpy_matrix(i) != 0) * 1).dot(np.array((nx.to_numpy_matrix(i) != 0) * 1))\n",
    "        edgesWithScore = {}\n",
    "        edges = nx.non_edges(i)\n",
    "        for e in edges:\n",
    "            edgesWithScore[e] = mat[e[0]][e[1]]\n",
    "        highScore = 0\n",
    "        sameScore = 0\n",
    "        allScore = 0\n",
    "        for e in edgesWithScore:\n",
    "            if e not in folds[step]:\n",
    "                for s in folds[step]:\n",
    "                    if edgesWithScore[e] < edgesWithScore[s]:\n",
    "                        highScore += 1\n",
    "                    elif edgesWithScore[e] == edgesWithScore[s]:\n",
    "                        sameScore += 1\n",
    "                    allScore += 1\n",
    "        auc.append(float(highScore + 0.5*sameScore)/float(allScore))\n",
    "        step += 1\n",
    "\n",
    "    return np.mean(auc)"
   ]
  },
  {
   "cell_type": "markdown",
   "metadata": {},
   "source": [
    "####Salton Index\n",
    "It is defined as\n",
    "$$s_{xy}^{Salton} = \\frac{|\\Gamma(x) \\cap \\Gamma(y)|}{\\sqrt{k_x \\times k_x}}$$\n",
    "where $k_x$ is the degree of node $x$. The Salton index is also called the cosine similarity in the literature."
   ]
  },
  {
   "cell_type": "code",
   "execution_count": 8,
   "metadata": {
    "collapsed": false
   },
   "outputs": [],
   "source": [
    "def salton_index(folds, subs, symmetric = True, nfolds = 10):\n",
    "    nmis = len(folds[0])\n",
    "    step = 0\n",
    "    auc = []\n",
    "    for i in subs:\n",
    "        mat = np.array((nx.to_numpy_matrix(i) != 0) * 1).dot(np.array((nx.to_numpy_matrix(i) != 0) * 1))\n",
    "        edgesWithScore = {}\n",
    "        edges = nx.non_edges(i)\n",
    "        for e in edges:\n",
    "            j = nx.degree(i, e[0])\n",
    "            k = nx.degree(i, e[1])\n",
    "            if j != 0 and k != 0:\n",
    "                edgesWithScore[e] = float(mat[e[0]][e[1]])/float(np.sqrt(j * k))\n",
    "            else:\n",
    "                edgesWithScore[e] = 0\n",
    "        highScore = 0\n",
    "        sameScore = 0\n",
    "        allScore = 0\n",
    "        for e in edgesWithScore:\n",
    "            if e not in folds[step]:\n",
    "                for s in folds[step]:\n",
    "                    if edgesWithScore[e] < edgesWithScore[s]:\n",
    "                        highScore += 1\n",
    "                    elif edgesWithScore[e] == edgesWithScore[s]:\n",
    "                        sameScore += 1\n",
    "                    allScore += 1\n",
    "        auc.append(float(highScore + 0.5*sameScore)/float(allScore))\n",
    "        step += 1\n",
    "\n",
    "    return np.mean(auc)"
   ]
  },
  {
   "cell_type": "markdown",
   "metadata": {
    "collapsed": true
   },
   "source": [
    "####Jaccard Index\n",
    "This index was proposed by Jaccard over a hundred years ago, and is defined as\n",
    "$$s_{xy}^{Jaccard} = \\frac{|\\Gamma(x) \\cap \\Gamma(y)|}{|\\Gamma(x) \\cup \\Gamma(y)|}$$"
   ]
  },
  {
   "cell_type": "code",
   "execution_count": 9,
   "metadata": {
    "collapsed": true
   },
   "outputs": [],
   "source": [
    "def jaccard_index(folds, subs, symmetric = True, nfolds = 10):\n",
    "    nmis = len(folds[0])\n",
    "    step = 0\n",
    "    auc = []\n",
    "    for i in subs:\n",
    "        mat = np.array((nx.to_numpy_matrix(i) != 0) * 1).dot(np.array((nx.to_numpy_matrix(i) != 0) * 1))\n",
    "        edgesWithScore = {}\n",
    "        edges = nx.non_edges(i)\n",
    "        for e in edges:\n",
    "            if nx.degree(i, e[0]) != 0 or nx.degree(i, e[1]) != 0:\n",
    "                edgesWithScore[e] = float(mat[e[0]][e[1]])/float(len(set(i[e[0]])|set(i[e[1]])))\n",
    "            else:\n",
    "                edgesWithScore[e] = 0\n",
    "        highScore = 0\n",
    "        sameScore = 0\n",
    "        allScore = 0\n",
    "        for e in edgesWithScore:\n",
    "            if e not in folds[step]:\n",
    "                for s in folds[step]:\n",
    "                    if edgesWithScore[e] < edgesWithScore[s]:\n",
    "                        highScore += 1\n",
    "                    elif edgesWithScore[e] == edgesWithScore[s]:\n",
    "                        sameScore += 1\n",
    "                    allScore += 1\n",
    "        auc.append(float(highScore + 0.5*sameScore)/float(allScore))\n",
    "        step += 1\n",
    "\n",
    "    return np.mean(auc)"
   ]
  },
  {
   "cell_type": "markdown",
   "metadata": {},
   "source": [
    "####Sorensen Index\n",
    "This index is used mainly for ecological community data, and is defined as\n",
    "$$s_{xy}^{Sorensen} = \\frac{2|\\Gamma(x) \\cap \\Gamma(y)|}{k_x + k_y}$$"
   ]
  },
  {
   "cell_type": "code",
   "execution_count": 10,
   "metadata": {
    "collapsed": true
   },
   "outputs": [],
   "source": [
    "def sorensen_index(folds, subs, symmetric = True, nfolds = 10):\n",
    "    nmis = len(folds[0])\n",
    "    step = 0\n",
    "    auc = []\n",
    "    for i in subs:\n",
    "        mat = np.array((nx.to_numpy_matrix(i) != 0) * 1).dot(np.array((nx.to_numpy_matrix(i) != 0) * 1))\n",
    "        edgesWithScore = {}\n",
    "        edges = nx.non_edges(i)\n",
    "        for e in edges:\n",
    "            j = nx.degree(i, e[0])\n",
    "            k = nx.degree(i, e[1])\n",
    "            if j != 0 or k != 0:\n",
    "                edgesWithScore[e] = 2*float(mat[e[0]][e[1]])/float(j + k)\n",
    "            else:\n",
    "                edgesWithScore[e] = 0\n",
    "        highScore = 0\n",
    "        sameScore = 0\n",
    "        allScore = 0\n",
    "        for e in edgesWithScore:\n",
    "            if e not in folds[step]:\n",
    "                for s in folds[step]:\n",
    "                    if edgesWithScore[e] < edgesWithScore[s]:\n",
    "                        highScore += 1\n",
    "                    elif edgesWithScore[e] == edgesWithScore[s]:\n",
    "                        sameScore += 1\n",
    "                    allScore += 1\n",
    "        auc.append(float(highScore + 0.5*sameScore)/float(allScore))\n",
    "        step += 1\n",
    "\n",
    "    return np.mean(auc)"
   ]
  },
  {
   "cell_type": "markdown",
   "metadata": {},
   "source": [
    "####Hub Promoted Index (HPI)\n",
    "This index is proposed for quantifying the topological overlap of pairs of substrates in metabolic networks, and is defined as\n",
    "$$s_{xy}^{HPI} = \\frac{|\\Gamma(x) \\cap \\Gamma(y)|}{min\\{k_x, k_y\\}}$$\n",
    "Under this measurement, the links adjacent to hubs are likely to be assigned high scores since the denominator is determined by the lower degree only."
   ]
  },
  {
   "cell_type": "code",
   "execution_count": 11,
   "metadata": {
    "collapsed": true
   },
   "outputs": [],
   "source": [
    "def hub_promoted_index(folds, subs, symmetric = True, nfolds = 10):\n",
    "    nmis = len(folds[0])\n",
    "    step = 0\n",
    "    auc = []\n",
    "    for i in subs:\n",
    "        mat = np.array((nx.to_numpy_matrix(i) != 0) * 1).dot(np.array((nx.to_numpy_matrix(i) != 0) * 1))\n",
    "        edgesWithScore = {}\n",
    "        edges = nx.non_edges(i)\n",
    "        for e in edges:\n",
    "            j = nx.degree(i, e[0])\n",
    "            k = nx.degree(i, e[1])\n",
    "            if j != 0 and k != 0:\n",
    "                edgesWithScore[e] = float(mat[e[0]][e[1]])/float(min(j, k))\n",
    "            else:\n",
    "                edgesWithScore[e] = 0\n",
    "        highScore = 0\n",
    "        sameScore = 0\n",
    "        allScore = 0\n",
    "        for e in edgesWithScore:\n",
    "            if e not in folds[step]:\n",
    "                for s in folds[step]:\n",
    "                    if edgesWithScore[e] < edgesWithScore[s]:\n",
    "                        highScore += 1\n",
    "                    elif edgesWithScore[e] == edgesWithScore[s]:\n",
    "                        sameScore += 1\n",
    "                    allScore += 1\n",
    "        auc.append(float(highScore + 0.5*sameScore)/float(allScore))\n",
    "        step += 1\n",
    "\n",
    "    return np.mean(auc)"
   ]
  },
  {
   "cell_type": "markdown",
   "metadata": {},
   "source": [
    "####Hub Depressed Index (HDI)\n",
    "Analogously to the above index, we also consider a measurement with the opposite effect on hubs, defined as\n",
    "$$s_{xy}^{HDI} = \\frac{|\\Gamma(x) \\cap \\Gamma(y)|}{max\\{k_x, k_y\\}}$$"
   ]
  },
  {
   "cell_type": "code",
   "execution_count": 12,
   "metadata": {
    "collapsed": true
   },
   "outputs": [],
   "source": [
    "def hub_depressed_index(folds, subs, symmetric = True, nfolds = 10):\n",
    "    nmis = len(folds[0])\n",
    "    step = 0\n",
    "    auc = []\n",
    "    for i in subs:\n",
    "        mat = np.array((nx.to_numpy_matrix(i) != 0) * 1).dot(np.array((nx.to_numpy_matrix(i) != 0) * 1))\n",
    "        edgesWithScore = {}\n",
    "        edges = nx.non_edges(i)\n",
    "        for e in edges:\n",
    "            j = nx.degree(i, e[0])\n",
    "            k = nx.degree(i, e[1])\n",
    "            if j != 0 or k != 0:\n",
    "                edgesWithScore[e] = float(mat[e[0]][e[1]])/float(max(j, k))\n",
    "            else:\n",
    "                edgesWithScore[e] = 0\n",
    "        highScore = 0\n",
    "        sameScore = 0\n",
    "        allScore = 0\n",
    "        for e in edgesWithScore:\n",
    "            if e not in folds[step]:\n",
    "                for s in folds[step]:\n",
    "                    if edgesWithScore[e] < edgesWithScore[s]:\n",
    "                        highScore += 1\n",
    "                    elif edgesWithScore[e] == edgesWithScore[s]:\n",
    "                        sameScore += 1\n",
    "                    allScore += 1\n",
    "        auc.append(float(highScore + 0.5*sameScore)/float(allScore))\n",
    "        step += 1\n",
    "\n",
    "    return np.mean(auc)"
   ]
  },
  {
   "cell_type": "markdown",
   "metadata": {},
   "source": [
    "####Leicht–Holme–Newman Index (LHN1)\n",
    "This index assigns high similarity to node pairs that have many common neighbors compared not to the possible maximum, but to the expected number of such neighbors. It is defined as\n",
    "$$s_{xy}^{LHN1} = \\frac{|\\Gamma(x) \\cap \\Gamma(y)|}{k_x \\times k_y}$$\n",
    "where the denominator, $k_x \\times k_y$, is proportional to the expected number of common neighbors of nodes $x$ and $y$ in the configuration model. We use the abbreviation LHN1 to distinguish this index to another index (named as LHN2 index) also proposed by Leicht, Holme and Newman."
   ]
  },
  {
   "cell_type": "code",
   "execution_count": 13,
   "metadata": {
    "collapsed": true
   },
   "outputs": [],
   "source": [
    "def LHN1_index(folds, subs, symmetric = True, nfolds = 10):\n",
    "    nmis = len(folds[0])\n",
    "    step = 0\n",
    "    auc = []\n",
    "    for i in subs:\n",
    "        mat = np.array((nx.to_numpy_matrix(i) != 0) * 1).dot(np.array((nx.to_numpy_matrix(i) != 0) * 1))\n",
    "        edgesWithScore = {}\n",
    "        edges = nx.non_edges(i)\n",
    "        for e in edges:\n",
    "            j = nx.degree(i, e[0])\n",
    "            k = nx.degree(i, e[1])\n",
    "            if j != 0 and k != 0:\n",
    "                edgesWithScore[e] = float(mat[e[0]][e[1]])/float(j * k)\n",
    "            else:\n",
    "                edgesWithScore[e] = 0\n",
    "        highScore = 0\n",
    "        sameScore = 0\n",
    "        allScore = 0\n",
    "        for e in edgesWithScore:\n",
    "            if e not in folds[step]:\n",
    "                for s in folds[step]:\n",
    "                    if edgesWithScore[e] < edgesWithScore[s]:\n",
    "                        highScore += 1\n",
    "                    elif edgesWithScore[e] == edgesWithScore[s]:\n",
    "                        sameScore += 1\n",
    "                    allScore += 1\n",
    "        auc.append(float(highScore + 0.5*sameScore)/float(allScore))\n",
    "        step += 1\n",
    "\n",
    "    return np.mean(auc)"
   ]
  },
  {
   "cell_type": "markdown",
   "metadata": {},
   "source": [
    "####Preferential Attachment Index (PA)\n",
    "The mechanism of preferential attachment can be used to generate evolving scale- free networks, where the probability that a new link is connected to the node $x$ is proportional to $k_x$. A similar mechanism can also lead to scale-free networks without growth, where at each time step, an old link is removed and a new link is generated. The probability that this new link will connect $x$ and $y$ is proportional to $k_x \\times k_y$. Motivated by this mechanism, the corresponding similarity index can be defined as\n",
    "$$s_{xy}^{PA} = k_x \\times k_y$$\n",
    "which has been widely used to quantify the functional significance of links subject to various network-based dynamics, such as percolation, synchronization and transportation. Note that, this index does not require the information of the neighborhood of each node, as a consequence, it has the least computational complexity."
   ]
  },
  {
   "cell_type": "code",
   "execution_count": 14,
   "metadata": {
    "collapsed": true
   },
   "outputs": [],
   "source": [
    "def preferential_attachment_index(folds, subs, symmetric = True, nfolds = 10):\n",
    "    nmis = len(folds[0])\n",
    "    step = 0\n",
    "    auc = []\n",
    "    for i in subs:\n",
    "        edgesWithScore = {}\n",
    "        edges = nx.non_edges(i)\n",
    "        for e in edges:\n",
    "            edgesWithScore[e] = nx.degree(i, e[0]) * nx.degree(i, e[1])\n",
    "        highScore = 0\n",
    "        sameScore = 0\n",
    "        allScore = 0\n",
    "        for e in edgesWithScore:\n",
    "            if e not in folds[step]:\n",
    "                for s in folds[step]:\n",
    "                    if edgesWithScore[e] < edgesWithScore[s]:\n",
    "                        highScore += 1\n",
    "                    elif edgesWithScore[e] == edgesWithScore[s]:\n",
    "                        sameScore += 1\n",
    "                    allScore += 1\n",
    "        auc.append(float(highScore + 0.5*sameScore)/float(allScore))\n",
    "        step += 1\n",
    "\n",
    "    return np.mean(auc)"
   ]
  },
  {
   "cell_type": "markdown",
   "metadata": {},
   "source": [
    "####Adamic–Adar Index (AA)\n",
    "This index refines the simple counting of common neighbors by assigning the less- connected neighbors more weights, and is defined as\n",
    "$$s_{xy}^{AA} = \\sum_{z \\in \\Gamma(x) \\cap \\Gamma(y)} \\frac{1}{log k_z}$$"
   ]
  },
  {
   "cell_type": "code",
   "execution_count": 15,
   "metadata": {
    "collapsed": false
   },
   "outputs": [],
   "source": [
    "def adamic_adar_index(folds, subs, symmetric = True, nfolds = 10):\n",
    "    nmis = len(folds[0])\n",
    "    step = 0\n",
    "    auc = []\n",
    "    for i in subs:\n",
    "        edgesWithScore = {}\n",
    "        edges = nx.non_edges(i)\n",
    "        for e in edges:\n",
    "            edgesWithScore[e] = np.sum(1/np.log(nx.degree(i, sorted(nx.common_neighbors(i, e[0], e[1]))).values()))\n",
    "        highScore = 0\n",
    "        sameScore = 0\n",
    "        allScore = 0\n",
    "        for e in edgesWithScore:\n",
    "            if e not in folds[step]:\n",
    "                for s in folds[step]:\n",
    "                    if edgesWithScore[e] < edgesWithScore[s]:\n",
    "                        highScore += 1\n",
    "                    elif edgesWithScore[e] == edgesWithScore[s]:\n",
    "                        sameScore += 1\n",
    "                    allScore += 1\n",
    "        auc.append(float(highScore + 0.5*sameScore)/float(allScore))\n",
    "        step += 1\n",
    "        \n",
    "    return np.mean(auc)"
   ]
  },
  {
   "cell_type": "markdown",
   "metadata": {},
   "source": [
    "####Resource Allocation Index (RA)\n",
    "This index is motivated by the resource allocation dynamics on complex networks. Consider a pair of nodes, $x$ and $y$, which are not directly connected. The node $x$ can send some resource to $y$, with their common neighbors playing the role of transmitters. In the simplest case, we assume that each transmitter has a unit of resource, and will equally distribute it to all its neighbors. The similarity between $x$ and $y$ can be defined as the amount of resource $y$ received from $x$, which is\n",
    "$$s_{xy}^{RA} = \\sum_{z \\in \\Gamma(x) \\cap \\Gamma(y)} \\frac{1}{k_z}$$\n",
    "Clearly,this measure is symmetric,namely $s_{xy} = s_{yx}$.Note that, although resulting from different motivations, the AA index and RA index have very similar form. Indeed, they both depress the contribution of the high-degree common neighbors. AA index takes the form $(log k )^{−1}$ while RA index takes the form $k^{−1}$. The difference is insignificant when the degree, $k_z$, is small, while it is considerable when $k_z$ is large. In other words, RA index punishes the high-degree common neighbors more heavily than AA."
   ]
  },
  {
   "cell_type": "code",
   "execution_count": 16,
   "metadata": {
    "collapsed": true
   },
   "outputs": [],
   "source": [
    "def resourse_allocation_index(folds, subs, symmetric = True, nfolds = 10):\n",
    "    nmis = len(folds[0])\n",
    "    step = 0\n",
    "    auc = []\n",
    "    for i in subs:\n",
    "        edgesWithScore = {}\n",
    "        edges = nx.non_edges(i)\n",
    "        for e in edges:\n",
    "            edgesWithScore[e] = np.sum(1/np.array(\n",
    "                    nx.degree(i, sorted(nx.common_neighbors(i, e[0], e[1]))).values()).astype(float))\n",
    "        highScore = 0\n",
    "        sameScore = 0\n",
    "        allScore = 0\n",
    "        for e in edgesWithScore:\n",
    "            if e not in folds[step]:\n",
    "                for s in folds[step]:\n",
    "                    if edgesWithScore[e] < edgesWithScore[s]:\n",
    "                        highScore += 1\n",
    "                    elif edgesWithScore[e] == edgesWithScore[s]:\n",
    "                        sameScore += 1\n",
    "                    allScore += 1\n",
    "        auc.append(float(highScore + 0.5*sameScore)/float(allScore))\n",
    "        step += 1\n",
    "        \n",
    "    return np.mean(auc)"
   ]
  },
  {
   "cell_type": "code",
   "execution_count": 17,
   "metadata": {
    "collapsed": true
   },
   "outputs": [],
   "source": [
    "def run_local_similarity_indices(G, symmetric = True, nfolds = 10, seed = 0):\n",
    "    random.seed(seed)\n",
    "    folds = [i for i in chunk(G.edges(), nfolds)]\n",
    "    subs = []\n",
    "    for i in xrange(nfolds):\n",
    "        graph = G.copy()\n",
    "        for c in folds[i]:\n",
    "            graph.remove_edge(*c)\n",
    "        subs.append(graph.copy())\n",
    "    cn = common_neighbours(folds, subs, symmetric = symmetric)\n",
    "    print 'cn'\n",
    "    sai = salton_index(folds, subs, symmetric = symmetric)\n",
    "    print 'sai'\n",
    "    ji = jaccard_index(folds, subs, symmetric = symmetric)\n",
    "    print 'ji'\n",
    "    soi = sorensen_index(folds, subs, symmetric = symmetric)\n",
    "    print 'soi'\n",
    "    hpi = hub_promoted_index(folds, subs, symmetric = symmetric)\n",
    "    print 'hpi'\n",
    "    hdi = hub_depressed_index(folds, subs, symmetric = symmetric)\n",
    "    print 'hdi'\n",
    "    lhn1 = LHN1_index(folds, subs, symmetric = symmetric)\n",
    "    print 'LHN1'\n",
    "    pai = preferential_attachment_index(folds, subs, symmetric = symmetric)\n",
    "    print 'pai'\n",
    "    aai = adamic_adar_index(folds, subs, symmetric = symmetric)\n",
    "    print 'aai'\n",
    "    rai = resourse_allocation_index(folds, subs, symmetric = symmetric)\n",
    "    print 'rai'\n",
    "    aucs = {'CN' : cn, \n",
    "            'SaI' : sai, \n",
    "            'JI' : ji, \n",
    "            'SoI' : soi,\n",
    "            'HPI' : hpi,\n",
    "            'HDI' : hdi,\n",
    "            'LHN1' : lhn1,\n",
    "            'PAI' : pai,\n",
    "            'AAI' : aai,\n",
    "            'RAI' : rai}\n",
    "    return aucs"
   ]
  },
  {
   "cell_type": "code",
   "execution_count": 18,
   "metadata": {
    "collapsed": false
   },
   "outputs": [],
   "source": [
    "df = pd.DataFrame(columns = ['CN', 'SaI', 'JI', 'SoI', 'HPI', 'HDI', 'LHN1', 'PAI', 'AAI', 'RAI'])"
   ]
  },
  {
   "cell_type": "code",
   "execution_count": 19,
   "metadata": {
    "collapsed": true
   },
   "outputs": [
    {
     "name": "stdout",
     "output_type": "stream",
     "text": [
      "cn\n",
      "sai\n",
      "ji\n",
      "soi\n",
      "hpi\n",
      "hdi\n",
      "LHN1\n",
      "pai\n",
      "aai\n",
      "rai\n"
     ]
    }
   ],
   "source": [
    "df.loc['karate club'] = run_local_similarity_indices(nx.karate_club_graph())"
   ]
  },
  {
   "cell_type": "code",
   "execution_count": 20,
   "metadata": {
    "collapsed": true
   },
   "outputs": [
    {
     "data": {
      "text/html": [
       "<div style=\"max-height:1000px;max-width:1500px;overflow:auto;\">\n",
       "<table border=\"1\" class=\"dataframe\">\n",
       "  <thead>\n",
       "    <tr style=\"text-align: right;\">\n",
       "      <th></th>\n",
       "      <th>CN</th>\n",
       "      <th>SaI</th>\n",
       "      <th>JI</th>\n",
       "      <th>SoI</th>\n",
       "      <th>HPI</th>\n",
       "      <th>HDI</th>\n",
       "      <th>LHN1</th>\n",
       "      <th>PAI</th>\n",
       "      <th>AAI</th>\n",
       "      <th>RAI</th>\n",
       "    </tr>\n",
       "  </thead>\n",
       "  <tbody>\n",
       "    <tr>\n",
       "      <th>karate club</th>\n",
       "      <td> 0.699908</td>\n",
       "      <td> 0.636143</td>\n",
       "      <td> 0.606829</td>\n",
       "      <td> 0.606829</td>\n",
       "      <td> 0.712276</td>\n",
       "      <td> 0.592641</td>\n",
       "      <td> 0.599922</td>\n",
       "      <td> 0.711626</td>\n",
       "      <td> 0.725595</td>\n",
       "      <td> 0.733396</td>\n",
       "    </tr>\n",
       "  </tbody>\n",
       "</table>\n",
       "</div>"
      ],
      "text/plain": [
       "                   CN       SaI        JI       SoI       HPI       HDI  \\\n",
       "karate club  0.699908  0.636143  0.606829  0.606829  0.712276  0.592641   \n",
       "\n",
       "                 LHN1       PAI       AAI       RAI  \n",
       "karate club  0.599922  0.711626  0.725595  0.733396  "
      ]
     },
     "execution_count": 20,
     "metadata": {},
     "output_type": "execute_result"
    }
   ],
   "source": [
    "df"
   ]
  },
  {
   "cell_type": "code",
   "execution_count": 21,
   "metadata": {
    "collapsed": true
   },
   "outputs": [],
   "source": [
    "pajek_football = nx.read_pajek('./netws/pajekds/football.net')"
   ]
  },
  {
   "cell_type": "code",
   "execution_count": 22,
   "metadata": {
    "collapsed": false
   },
   "outputs": [],
   "source": [
    "fixed_pajek_football = nx.Graph(nx.convert_node_labels_to_integers(pajek_football, first_label = 0))"
   ]
  },
  {
   "cell_type": "code",
   "execution_count": 23,
   "metadata": {
    "collapsed": true
   },
   "outputs": [
    {
     "name": "stdout",
     "output_type": "stream",
     "text": [
      "cn\n",
      "sai\n",
      "ji\n",
      "soi\n",
      "hpi\n",
      "hdi\n",
      "LHN1\n",
      "pai\n",
      "aai\n",
      "rai\n"
     ]
    }
   ],
   "source": [
    "df.loc['pajek football'] = run_local_similarity_indices(fixed_pajek_football)"
   ]
  },
  {
   "cell_type": "code",
   "execution_count": 24,
   "metadata": {
    "collapsed": true
   },
   "outputs": [
    {
     "data": {
      "text/html": [
       "<div style=\"max-height:1000px;max-width:1500px;overflow:auto;\">\n",
       "<table border=\"1\" class=\"dataframe\">\n",
       "  <thead>\n",
       "    <tr style=\"text-align: right;\">\n",
       "      <th></th>\n",
       "      <th>CN</th>\n",
       "      <th>SaI</th>\n",
       "      <th>JI</th>\n",
       "      <th>SoI</th>\n",
       "      <th>HPI</th>\n",
       "      <th>HDI</th>\n",
       "      <th>LHN1</th>\n",
       "      <th>PAI</th>\n",
       "      <th>AAI</th>\n",
       "      <th>RAI</th>\n",
       "    </tr>\n",
       "  </thead>\n",
       "  <tbody>\n",
       "    <tr>\n",
       "      <th>karate club</th>\n",
       "      <td> 0.699908</td>\n",
       "      <td> 0.636143</td>\n",
       "      <td> 0.606829</td>\n",
       "      <td> 0.606829</td>\n",
       "      <td> 0.712276</td>\n",
       "      <td> 0.592641</td>\n",
       "      <td> 0.599922</td>\n",
       "      <td> 0.711626</td>\n",
       "      <td> 0.725595</td>\n",
       "      <td> 0.733396</td>\n",
       "    </tr>\n",
       "    <tr>\n",
       "      <th>pajek football</th>\n",
       "      <td> 0.662064</td>\n",
       "      <td> 0.588845</td>\n",
       "      <td> 0.587198</td>\n",
       "      <td> 0.587198</td>\n",
       "      <td> 0.600118</td>\n",
       "      <td> 0.578401</td>\n",
       "      <td> 0.490883</td>\n",
       "      <td> 0.754943</td>\n",
       "      <td> 0.658615</td>\n",
       "      <td> 0.652655</td>\n",
       "    </tr>\n",
       "  </tbody>\n",
       "</table>\n",
       "</div>"
      ],
      "text/plain": [
       "                      CN       SaI        JI       SoI       HPI       HDI  \\\n",
       "karate club     0.699908  0.636143  0.606829  0.606829  0.712276  0.592641   \n",
       "pajek football  0.662064  0.588845  0.587198  0.587198  0.600118  0.578401   \n",
       "\n",
       "                    LHN1       PAI       AAI       RAI  \n",
       "karate club     0.599922  0.711626  0.725595  0.733396  \n",
       "pajek football  0.490883  0.754943  0.658615  0.652655  "
      ]
     },
     "execution_count": 24,
     "metadata": {},
     "output_type": "execute_result"
    }
   ],
   "source": [
    "df"
   ]
  },
  {
   "cell_type": "code",
   "execution_count": 25,
   "metadata": {
    "collapsed": false
   },
   "outputs": [],
   "source": [
    "pajek_us_air = nx.read_pajek('./netws/pajekds/USAir97.net')"
   ]
  },
  {
   "cell_type": "code",
   "execution_count": 26,
   "metadata": {
    "collapsed": true
   },
   "outputs": [],
   "source": [
    "fixed_pajek_us_air = nx.Graph(nx.convert_node_labels_to_integers(pajek_us_air, first_label = 0))\n",
    "pajek_us_air = 0"
   ]
  },
  {
   "cell_type": "code",
   "execution_count": 27,
   "metadata": {
    "collapsed": true
   },
   "outputs": [
    {
     "name": "stdout",
     "output_type": "stream",
     "text": [
      "cn\n",
      "sai\n",
      "ji\n",
      "soi\n",
      "hpi\n",
      "hdi\n",
      "LHN1\n",
      "pai\n",
      "aai\n",
      "rai\n"
     ]
    }
   ],
   "source": [
    "df.loc['pajek_us_air'] = run_local_similarity_indices(fixed_pajek_us_air)"
   ]
  },
  {
   "cell_type": "code",
   "execution_count": 28,
   "metadata": {
    "collapsed": true
   },
   "outputs": [
    {
     "data": {
      "text/html": [
       "<div style=\"max-height:1000px;max-width:1500px;overflow:auto;\">\n",
       "<table border=\"1\" class=\"dataframe\">\n",
       "  <thead>\n",
       "    <tr style=\"text-align: right;\">\n",
       "      <th></th>\n",
       "      <th>CN</th>\n",
       "      <th>SaI</th>\n",
       "      <th>JI</th>\n",
       "      <th>SoI</th>\n",
       "      <th>HPI</th>\n",
       "      <th>HDI</th>\n",
       "      <th>LHN1</th>\n",
       "      <th>PAI</th>\n",
       "      <th>AAI</th>\n",
       "      <th>RAI</th>\n",
       "    </tr>\n",
       "  </thead>\n",
       "  <tbody>\n",
       "    <tr>\n",
       "      <th>karate club</th>\n",
       "      <td> 0.699908</td>\n",
       "      <td> 0.636143</td>\n",
       "      <td> 0.606829</td>\n",
       "      <td> 0.606829</td>\n",
       "      <td> 0.712276</td>\n",
       "      <td> 0.592641</td>\n",
       "      <td> 0.599922</td>\n",
       "      <td> 0.711626</td>\n",
       "      <td> 0.725595</td>\n",
       "      <td> 0.733396</td>\n",
       "    </tr>\n",
       "    <tr>\n",
       "      <th>pajek football</th>\n",
       "      <td> 0.662064</td>\n",
       "      <td> 0.588845</td>\n",
       "      <td> 0.587198</td>\n",
       "      <td> 0.587198</td>\n",
       "      <td> 0.600118</td>\n",
       "      <td> 0.578401</td>\n",
       "      <td> 0.490883</td>\n",
       "      <td> 0.754943</td>\n",
       "      <td> 0.658615</td>\n",
       "      <td> 0.652655</td>\n",
       "    </tr>\n",
       "    <tr>\n",
       "      <th>pajek_us_air</th>\n",
       "      <td> 0.934896</td>\n",
       "      <td> 0.908560</td>\n",
       "      <td> 0.898030</td>\n",
       "      <td> 0.898030</td>\n",
       "      <td> 0.870076</td>\n",
       "      <td> 0.891644</td>\n",
       "      <td> 0.767659</td>\n",
       "      <td> 0.886947</td>\n",
       "      <td> 0.945853</td>\n",
       "      <td> 0.951752</td>\n",
       "    </tr>\n",
       "  </tbody>\n",
       "</table>\n",
       "</div>"
      ],
      "text/plain": [
       "                      CN       SaI        JI       SoI       HPI       HDI  \\\n",
       "karate club     0.699908  0.636143  0.606829  0.606829  0.712276  0.592641   \n",
       "pajek football  0.662064  0.588845  0.587198  0.587198  0.600118  0.578401   \n",
       "pajek_us_air    0.934896  0.908560  0.898030  0.898030  0.870076  0.891644   \n",
       "\n",
       "                    LHN1       PAI       AAI       RAI  \n",
       "karate club     0.599922  0.711626  0.725595  0.733396  \n",
       "pajek football  0.490883  0.754943  0.658615  0.652655  \n",
       "pajek_us_air    0.767659  0.886947  0.945853  0.951752  "
      ]
     },
     "execution_count": 28,
     "metadata": {},
     "output_type": "execute_result"
    }
   ],
   "source": [
    "df"
   ]
  },
  {
   "cell_type": "code",
   "execution_count": 31,
   "metadata": {
    "collapsed": false
   },
   "outputs": [],
   "source": [
    "pajek_netscience = nx.read_pajek('./netws/pajekds/netsience.net')"
   ]
  },
  {
   "cell_type": "code",
   "execution_count": 32,
   "metadata": {
    "collapsed": true
   },
   "outputs": [
    {
     "name": "stdout",
     "output_type": "stream",
     "text": [
      "cn\n",
      "sai\n",
      "ji\n",
      "soi\n",
      "hpi\n",
      "hdi\n",
      "LHN1\n",
      "pai\n",
      "aai\n",
      "rai\n"
     ]
    }
   ],
   "source": [
    "fixed_pajek_netscience = nx.Graph(nx.convert_node_labels_to_integers(pajek_netscience, first_label = 0))\n",
    "pajek_netscience = 0\n",
    "df.loc['pajek netscience'] = run_local_similarity_indices(fixed_pajek_netscience)\n",
    "fixed_pajek_netscience = 0"
   ]
  },
  {
   "cell_type": "code",
   "execution_count": 34,
   "metadata": {
    "collapsed": false
   },
   "outputs": [
    {
     "data": {
      "text/html": [
       "<div style=\"max-height:1000px;max-width:1500px;overflow:auto;\">\n",
       "<table border=\"1\" class=\"dataframe\">\n",
       "  <thead>\n",
       "    <tr style=\"text-align: right;\">\n",
       "      <th></th>\n",
       "      <th>CN</th>\n",
       "      <th>SaI</th>\n",
       "      <th>JI</th>\n",
       "      <th>SoI</th>\n",
       "      <th>HPI</th>\n",
       "      <th>HDI</th>\n",
       "      <th>LHN1</th>\n",
       "      <th>PAI</th>\n",
       "      <th>AAI</th>\n",
       "      <th>RAI</th>\n",
       "    </tr>\n",
       "  </thead>\n",
       "  <tbody>\n",
       "    <tr>\n",
       "      <th>karate club</th>\n",
       "      <td> 0.699908</td>\n",
       "      <td> 0.636143</td>\n",
       "      <td> 0.606829</td>\n",
       "      <td> 0.606829</td>\n",
       "      <td> 0.712276</td>\n",
       "      <td> 0.592641</td>\n",
       "      <td> 0.599922</td>\n",
       "      <td> 0.711626</td>\n",
       "      <td> 0.725595</td>\n",
       "      <td> 0.733396</td>\n",
       "    </tr>\n",
       "    <tr>\n",
       "      <th>pajek football</th>\n",
       "      <td> 0.662064</td>\n",
       "      <td> 0.588845</td>\n",
       "      <td> 0.587198</td>\n",
       "      <td> 0.587198</td>\n",
       "      <td> 0.600118</td>\n",
       "      <td> 0.578401</td>\n",
       "      <td> 0.490883</td>\n",
       "      <td> 0.754943</td>\n",
       "      <td> 0.658615</td>\n",
       "      <td> 0.652655</td>\n",
       "    </tr>\n",
       "    <tr>\n",
       "      <th>pajek_us_air</th>\n",
       "      <td> 0.934896</td>\n",
       "      <td> 0.908560</td>\n",
       "      <td> 0.898030</td>\n",
       "      <td> 0.898030</td>\n",
       "      <td> 0.870076</td>\n",
       "      <td> 0.891644</td>\n",
       "      <td> 0.767659</td>\n",
       "      <td> 0.886947</td>\n",
       "      <td> 0.945853</td>\n",
       "      <td> 0.951752</td>\n",
       "    </tr>\n",
       "    <tr>\n",
       "      <th>pajek netscience</th>\n",
       "      <td> 0.940165</td>\n",
       "      <td> 0.940314</td>\n",
       "      <td> 0.940269</td>\n",
       "      <td> 0.940269</td>\n",
       "      <td> 0.940200</td>\n",
       "      <td> 0.940221</td>\n",
       "      <td> 0.939941</td>\n",
       "      <td> 0.679141</td>\n",
       "      <td> 0.940459</td>\n",
       "      <td> 0.940473</td>\n",
       "    </tr>\n",
       "  </tbody>\n",
       "</table>\n",
       "</div>"
      ],
      "text/plain": [
       "                        CN       SaI        JI       SoI       HPI       HDI  \\\n",
       "karate club       0.699908  0.636143  0.606829  0.606829  0.712276  0.592641   \n",
       "pajek football    0.662064  0.588845  0.587198  0.587198  0.600118  0.578401   \n",
       "pajek_us_air      0.934896  0.908560  0.898030  0.898030  0.870076  0.891644   \n",
       "pajek netscience  0.940165  0.940314  0.940269  0.940269  0.940200  0.940221   \n",
       "\n",
       "                      LHN1       PAI       AAI       RAI  \n",
       "karate club       0.599922  0.711626  0.725595  0.733396  \n",
       "pajek football    0.490883  0.754943  0.658615  0.652655  \n",
       "pajek_us_air      0.767659  0.886947  0.945853  0.951752  \n",
       "pajek netscience  0.939941  0.679141  0.940459  0.940473  "
      ]
     },
     "execution_count": 34,
     "metadata": {},
     "output_type": "execute_result"
    }
   ],
   "source": [
    "df"
   ]
  },
  {
   "cell_type": "code",
   "execution_count": 35,
   "metadata": {
    "collapsed": true
   },
   "outputs": [],
   "source": [
    "df.to_csv('first_four.csv')"
   ]
  },
  {
   "cell_type": "markdown",
   "metadata": {},
   "source": [
    "###Global similarity indices"
   ]
  },
  {
   "cell_type": "markdown",
   "metadata": {},
   "source": [
    "####1. Katz Index\n",
    "This index is based on the ensemble of all paths, which directly sums over the collection of paths\n",
    "and is exponentially damped by length to give the shorter paths more weights. The mathematical expression reads\n",
    "$$S^{Katz} = (I - \\beta A)^{-1} - I.$$\n",
    "Note that, β must be lower than the reciprocal of the largest eigenvalue of matrix A to ensure the convergence of Eq."
   ]
  },
  {
   "cell_type": "code",
   "execution_count": 2,
   "metadata": {
    "collapsed": true
   },
   "outputs": [],
   "source": [
    "def katz_index(folds, subs, symmetric = True, nfolds = 10):\n",
    "    nmis = len(folds[0])\n",
    "    step = 0\n",
    "    auc = []\n",
    "    for i in subs:\n",
    "        mat = np.array((nx.to_numpy_matrix(i) != 0) * 1.)\n",
    "        ide = np.identity(len(mat))\n",
    "        beta = (1/float(max(np.linalg.eig(mat)[0])))/2\n",
    "        sim = np.linalg.inv(ide - beta*mat) - ide\n",
    "        edgesWithScore = {}\n",
    "        edges = nx.non_edges(i)\n",
    "        for e in edges:\n",
    "            edgesWithScore[e] = sim[e[0]][e[1]]\n",
    "        highScore = 0\n",
    "        sameScore = 0\n",
    "        allScore = 0\n",
    "        for e in edgesWithScore:\n",
    "            if e not in folds[step]:\n",
    "                for s in folds[step]:\n",
    "                    if edgesWithScore[e] < edgesWithScore[s]:\n",
    "                        highScore += 1\n",
    "                    elif edgesWithScore[e] == edgesWithScore[s]:\n",
    "                        sameScore += 1\n",
    "                    allScore += 1\n",
    "        auc.append(float(highScore + 0.5*sameScore)/float(allScore))\n",
    "        step += 1\n",
    "\n",
    "    return np.mean(auc)"
   ]
  },
  {
   "cell_type": "markdown",
   "metadata": {},
   "source": [
    "####2. Leicht–Holme–Newman Index (LHN2)\n",
    "This index is a variant of the Katz index. Based on the concept that two\n",
    "nodes are similar if their immediate neighbors are themselves similar, one obtains a self-consistent matrix formulation\n",
    "$$S^{LHN2} = 2 m \\lambda_1 D^{-1} (I - \\frac{\\phi A}{\\lambda_1})^{-1} D^{-1},$$\n",
    "where $\\lambda_1$ is the largest eigenvalue of $A$, $m$ is the total number of edges in the network and $D$ is the degree matrix with $D_{xy} = \\delta_{xy}k_x$ and $\\phi (0 < \\phi < 1)$ is a free parameter. The choosing of $\\phi$ depends on the investigated network, and smaller $\\phi$ assigns more weights on shorter paths."
   ]
  },
  {
   "cell_type": "code",
   "execution_count": 4,
   "metadata": {
    "collapsed": true
   },
   "outputs": [],
   "source": [
    "def lhn2_index(folds, subs, phi = 0.5, symmetric = True, nfolds = 10):\n",
    "    nmis = len(folds[0])\n",
    "    step = 0\n",
    "    auc = []\n",
    "    for i in subs:\n",
    "        mat = np.array((nx.to_numpy_matrix(i) != 0) * 1.)\n",
    "        ide = np.identity(len(mat))\n",
    "        dma = np.diagflat(mat.sum(axis = 1))\n",
    "        if np.linalg.det(dma) != 0:\n",
    "            lambd = float(max(np.linalg.eig(mat)[0]))\n",
    "            sim = (2 * i.number_of_edges() * lambd * np.linalg.inv(dma)).dot(np.linalg.inv(\n",
    "            ide - (phi/lambd) * mat)).dot(np.linalg.inv(dma))\n",
    "            edgesWithScore = {}\n",
    "            edges = nx.non_edges(i)\n",
    "            for e in edges:\n",
    "                edgesWithScore[e] = sim[e[0]][e[1]]\n",
    "            highScore = 0\n",
    "            sameScore = 0\n",
    "            allScore = 0\n",
    "            for e in edgesWithScore:\n",
    "                if e not in folds[step]:\n",
    "                    for s in folds[step]:\n",
    "                        if edgesWithScore[e] < edgesWithScore[s]:\n",
    "                            highScore += 1\n",
    "                        elif edgesWithScore[e] == edgesWithScore[s]:\n",
    "                            sameScore += 1\n",
    "                        allScore += 1\n",
    "            auc.append(float(highScore + 0.5*sameScore)/float(allScore))\n",
    "        step += 1\n",
    "\n",
    "    return np.mean(auc)"
   ]
  },
  {
   "cell_type": "markdown",
   "metadata": {},
   "source": [
    "####3. Average Commute Time (ACT)\n",
    "Assuming two nodes are more similar if they have a smaller average commute time, then the similarity between the nodes x and y can be defined as the reciprocal of $n(x, y)$, namely (the constant factor M is removed)\n",
    "$$S_{xy}^{ACT} = \\frac{1}{l_{xx}^{+} + l_{yy}^{+} - 2l_{xy}^{+}},$$\n",
    "where $l_{xy}^{+}$ denotes the corresponding entry in the Laplacian matrix, $L^{+} (L = D − A)$."
   ]
  },
  {
   "cell_type": "code",
   "execution_count": 6,
   "metadata": {
    "collapsed": true
   },
   "outputs": [],
   "source": [
    "def act_index(folds, subs, symmetric = True, nfolds = 10):\n",
    "    nmis = len(folds[0])\n",
    "    step = 0\n",
    "    auc = []\n",
    "    for i in subs:\n",
    "        mat = np.array((nx.to_numpy_matrix(i) != 0) * 1.)\n",
    "        dma = np.diagflat(mat.sum(axis = 1))\n",
    "        sim = np.linalg.pinv(dma - mat)\n",
    "        edgesWithScore = {}\n",
    "        edges = nx.non_edges(i)\n",
    "        for e in edges:\n",
    "            edgesWithScore[e] = 1/float(sim[e[0]][e[0]] + sim[e[1]][e[1]] - 2*sim[e[0]][e[1]])\n",
    "        highScore = 0\n",
    "        sameScore = 0\n",
    "        allScore = 0\n",
    "        for e in edgesWithScore:\n",
    "            if e not in folds[step]:\n",
    "                for s in folds[step]:\n",
    "                    if edgesWithScore[e] < edgesWithScore[s]:\n",
    "                        highScore += 1\n",
    "                    elif edgesWithScore[e] == edgesWithScore[s]:\n",
    "                        sameScore += 1\n",
    "                    allScore += 1\n",
    "        auc.append(float(highScore + 0.5*sameScore)/float(allScore))\n",
    "        step += 1\n",
    "\n",
    "    return np.mean(auc)"
   ]
  },
  {
   "cell_type": "markdown",
   "metadata": {},
   "source": [
    "####4. Cosine based on $L^{+}$\n",
    "This index is an inner-product-based measure. In the Euclidean space spanned by $v_x = \\Lambda^{\\frac{1}{2}} U^{T} e_x,$ where $U$ is an orthonormal matrix made of the eigenvectors of $L^{+}$ ordered in decreasing order of corresponding eigenvalue $\\lambda_x, \\Lambda = diag(\\lambda_x), e_x$ is an $N \\times 1$ vector with the $x$th element equal to $1$ and others all equal to $0$, and $T$ is the matrix transposition, the pseudoinverse of the Laplacian matrix are the inner products of the node vectors, $l_{xy}^{+} = v_x^T v_y$. Accordingly, the cosine similarity is defined as the cosine of the node vectors, namely\n",
    "$$s_{xy}^{cos^{+}} = cos(x, y)^{+} = \\frac{v_x^T v_y}{|v_x| \\cdot |v_y|} = \\frac{l_{xy}^{+}}{\\sqrt{l_{xx}^{+} \\cdot l_{yy}^{+}}}.$$"
   ]
  },
  {
   "cell_type": "code",
   "execution_count": 7,
   "metadata": {
    "collapsed": true
   },
   "outputs": [],
   "source": [
    "def cbl_index(folds, subs, symmetric = True, nfolds = 10):\n",
    "    nmis = len(folds[0])\n",
    "    step = 0\n",
    "    auc = []\n",
    "    for i in subs:\n",
    "        mat = np.array((nx.to_numpy_matrix(i) != 0) * 1.)\n",
    "        dma = np.diagflat(mat.sum(axis = 1))\n",
    "        sim = np.linalg.pinv(dma - mat)\n",
    "        edgesWithScore = {}\n",
    "        edges = nx.non_edges(i)\n",
    "        for e in edges:\n",
    "            edgesWithScore[e] = float(sim[e[0]][e[1]])/np.sqrt(sim[e[0]][e[0]] * sim[e[1]][e[1]])\n",
    "        highScore = 0\n",
    "        sameScore = 0\n",
    "        allScore = 0\n",
    "        for e in edgesWithScore:\n",
    "            if e not in folds[step]:\n",
    "                for s in folds[step]:\n",
    "                    if edgesWithScore[e] < edgesWithScore[s]:\n",
    "                        highScore += 1\n",
    "                    elif edgesWithScore[e] == edgesWithScore[s]:\n",
    "                        sameScore += 1\n",
    "                    allScore += 1\n",
    "        auc.append(float(highScore + 0.5*sameScore)/float(allScore))\n",
    "        step += 1\n",
    "\n",
    "    return np.mean(auc)"
   ]
  },
  {
   "cell_type": "markdown",
   "metadata": {},
   "source": [
    "####5. Random Walk with Restart (RWR)\n",
    "This index is a direct application of the PageRank algorithm. Consider a random walker starting from node $x$, who will iteratively move to a random neighbor with probability $c$ and return to node $x$ with probability $1 − c$. Denote by $q_{xy}$ the probability this random walker locates at node $y$ in the steady state, we have\n",
    "$$q_{x} = c P^T q_x + (1 - c) e_x,$$\n",
    "where $P$ is the transition matrix with $P_{xy} = 1/k_x$ if $x$ and $y$ are connected, and $P_{xy} = 0$ otherwise. The solution is straightforward, as\n",
    "$$q_x = (1 - c) (I - cP^T)^{-1} e_x.$$\n",
    "The RWR index is thus defined as\n",
    "$$s_{xy}^{RWR} = q_{xy} + q_{yx},$$\n",
    "where $q_{xy}$ is the $y$th element of the vector $q_x$."
   ]
  },
  {
   "cell_type": "code",
   "execution_count": 18,
   "metadata": {
    "collapsed": true
   },
   "outputs": [],
   "source": [
    "def rwr_index(folds, subs, c = 0.5, symmetric = True, nfolds = 10):\n",
    "    nmis = len(folds[0])\n",
    "    step = 0\n",
    "    auc = []\n",
    "    for i in subs:\n",
    "        mat = np.array((nx.to_numpy_matrix(i) != 0) * 1.)\n",
    "        dma = np.diagflat(mat.sum(axis = 1))\n",
    "        sim = np.linalg.pinv(dma - mat)\n",
    "        ide = np.identity(len(mat))\n",
    "        pmt = np.identity(len(mat))\n",
    "        es = []\n",
    "        for a in i.nodes():\n",
    "            e = np.zeros(len(mat))\n",
    "            e[a] = 1\n",
    "            es.append(e)\n",
    "            for b in i.nodes():\n",
    "                try:\n",
    "                    nx.shortest_path_length(i, source = a, target = b)\n",
    "                except:\n",
    "                    pmt[a][b] = 0\n",
    "                else:\n",
    "                    if nx.degree(i, a) != 0:\n",
    "                        pmt[a][b] = 1/float(nx.degree(i, a))\n",
    "                    else:\n",
    "                        pmt[a][b] = 0\n",
    "        es = np.array(es)\n",
    "        qs = []\n",
    "        for a in i.nodes():\n",
    "            if np.linalg.det(ide - c*np.transpose(pmt)) != 0:\n",
    "                q = ((1 - c)*np.linalg.inv(ide - c*np.transpose(pmt))).dot(es[a])\n",
    "            else:\n",
    "                q = es[a]\n",
    "            qs.append(q)\n",
    "        qs = np.array(qs)\n",
    "        edgesWithScore = {}\n",
    "        edges = nx.non_edges(i)\n",
    "        for e in edges:\n",
    "            edgesWithScore[e] = qs[e[0]][e[1]] + qs[e[1]][e[0]]\n",
    "        highScore = 0\n",
    "        sameScore = 0\n",
    "        allScore = 0\n",
    "        for e in edgesWithScore:\n",
    "            if e not in folds[step]:\n",
    "                for s in folds[step]:\n",
    "                    if edgesWithScore[e] < edgesWithScore[s]:\n",
    "                        highScore += 1\n",
    "                    elif edgesWithScore[e] == edgesWithScore[s]:\n",
    "                        sameScore += 1\n",
    "                    allScore += 1\n",
    "        auc.append(float(highScore + 0.5*sameScore)/float(allScore))\n",
    "        step += 1\n",
    "\n",
    "    return np.mean(auc)"
   ]
  },
  {
   "cell_type": "markdown",
   "metadata": {},
   "source": [
    "####6. SimRank\n",
    "Similar to the LHN2, SimRank is defined in a self-consistent way, according to the assumption that\n",
    "two nodes are similar if they are connected to similar nodes.\n",
    "$$s_{xy}^{SimRank} = C \\cdot \\frac{\\sum_{z \\in \\Gamma(x)} \\sum_{z' \\in \\Gamma(y)} s_{zz'}^{SimRank}}{k_x \\cdot k_y},$$\n",
    "where $s_{xx} = 1$ and $C \\in [0, 1]$ is the decay factor. The SimRank can also be interpreted by the random walk process, that is, $s_{xy}^{SimRank}$ measures how soon two random walkers, respectively starting from nodes $x$ and $y$, are expected to meet at a certain node. "
   ]
  },
  {
   "cell_type": "markdown",
   "metadata": {},
   "source": [
    "####7. Matrix Forest Index (MFI)\n",
    "This index is defined as\n",
    "$$S = (I + L)^{-1},$$\n",
    "where the similarity between $x$ and $y$ can be understood as the ratio of the number of spanning rooted forests such that nodes $x$ and $y$ belong to the same tree rooted at $x$ to all spanning rooted forests of the network. A parameter-dependent variant of MFI is\n",
    "$$S = (I + \\alpha L)^{-1}, \\ \\ \\ \\alpha > 0.$$"
   ]
  },
  {
   "cell_type": "code",
   "execution_count": 9,
   "metadata": {
    "collapsed": true
   },
   "outputs": [],
   "source": [
    "def matrix_forest_index(folds, subs, alpha = 1, symmetric = True, nfolds = 10):\n",
    "    nmis = len(folds[0])\n",
    "    step = 0\n",
    "    auc = []\n",
    "    for i in subs:\n",
    "        mat = np.array((nx.to_numpy_matrix(i) != 0) * 1.)\n",
    "        dma = np.diagflat(mat.sum(axis = 1))\n",
    "        ide = np.identity(len(mat))\n",
    "        sim = np.linalg.inv(ide + alpha*(dma - mat))\n",
    "        edgesWithScore = {}\n",
    "        edges = nx.non_edges(i)\n",
    "        for e in edges:\n",
    "            edgesWithScore[e] = sim[e[0]][e[1]]\n",
    "        highScore = 0\n",
    "        sameScore = 0\n",
    "        allScore = 0\n",
    "        for e in edgesWithScore:\n",
    "            if e not in folds[step]:\n",
    "                for s in folds[step]:\n",
    "                    if edgesWithScore[e] < edgesWithScore[s]:\n",
    "                        highScore += 1\n",
    "                    elif edgesWithScore[e] == edgesWithScore[s]:\n",
    "                        sameScore += 1\n",
    "                    allScore += 1\n",
    "        auc.append(float(highScore + 0.5*sameScore)/float(allScore))\n",
    "        step += 1\n",
    "\n",
    "    return np.mean(auc)"
   ]
  },
  {
   "cell_type": "code",
   "execution_count": 10,
   "metadata": {
    "collapsed": true
   },
   "outputs": [],
   "source": [
    "def run_global_similarity_indices(G, symmetric = True, nfolds = 10, seed = 0):\n",
    "    random.seed(seed)\n",
    "    folds = [i for i in chunk(G.edges(), nfolds)]\n",
    "    subs = []\n",
    "    for i in xrange(nfolds):\n",
    "        graph = G.copy()\n",
    "        for c in folds[i]:\n",
    "            graph.remove_edge(*c)\n",
    "        subs.append(graph.copy())\n",
    "    ki = katz_index(folds, subs, symmetric = symmetric)\n",
    "    print 'ki'\n",
    "    lhn2 = lhn2_index(folds, subs, symmetric = symmetric)\n",
    "    print 'lhn2'\n",
    "    act = act_index(folds, subs, symmetric = symmetric)\n",
    "    print 'act'\n",
    "    cbl = cbl_index(folds, subs, symmetric = symmetric)\n",
    "    print 'cbl'\n",
    "    rwr = rwr_index(folds, subs, symmetric = symmetric)\n",
    "    print 'rwr'\n",
    "    mfi = matrix_forest_index(folds, subs, symmetric = symmetric)\n",
    "    print 'mfi'\n",
    "    aucs = {'KI' : ki, \n",
    "            'LHN2' : lhn2, \n",
    "            'ACT' : act, \n",
    "            'CBL' : cbl,\n",
    "            'RWR' : rwr,\n",
    "            'MFI' : mfi}\n",
    "    return aucs"
   ]
  },
  {
   "cell_type": "code",
   "execution_count": 14,
   "metadata": {
    "collapsed": true
   },
   "outputs": [],
   "source": [
    "df2 = pd.DataFrame(columns = ['KI', 'LHN2', 'ACT', 'CBL', 'RWR', 'MFI'])"
   ]
  },
  {
   "cell_type": "code",
   "execution_count": 15,
   "metadata": {
    "collapsed": true
   },
   "outputs": [
    {
     "name": "stdout",
     "output_type": "stream",
     "text": [
      "ki\n",
      "lhn2\n",
      "act\n",
      "cbl\n",
      "rwr\n",
      "mfi\n"
     ]
    },
    {
     "name": "stderr",
     "output_type": "stream",
     "text": [
      "C:\\Anaconda2\\lib\\site-packages\\IPython\\kernel\\__main__.py:8: ComplexWarning: Casting complex values to real discards the imaginary part\n",
      "C:\\Anaconda2\\lib\\site-packages\\IPython\\kernel\\__main__.py:10: ComplexWarning: Casting complex values to real discards the imaginary part\n"
     ]
    }
   ],
   "source": [
    "df2.loc['karate club'] = run_global_similarity_indices(nx.karate_club_graph())"
   ]
  },
  {
   "cell_type": "code",
   "execution_count": 16,
   "metadata": {
    "collapsed": true
   },
   "outputs": [
    {
     "name": "stdout",
     "output_type": "stream",
     "text": [
      "ki\n",
      "lhn2\n",
      "act\n",
      "cbl\n",
      "rwr\n",
      "mfi\n"
     ]
    }
   ],
   "source": [
    "pajek_football = nx.read_pajek('./netws/pajekds/football.net')\n",
    "fixed_pajek_football = nx.Graph(nx.convert_node_labels_to_integers(pajek_football, first_label = 0))\n",
    "df2.loc['pajek football'] = run_global_similarity_indices(fixed_pajek_football)"
   ]
  },
  {
   "cell_type": "code",
   "execution_count": 19,
   "metadata": {
    "collapsed": true
   },
   "outputs": [
    {
     "name": "stdout",
     "output_type": "stream",
     "text": [
      "ki\n",
      "lhn2\n",
      "act\n",
      "cbl\n",
      "rwr\n",
      "mfi\n"
     ]
    },
    {
     "name": "stderr",
     "output_type": "stream",
     "text": [
      "C:\\Anaconda2\\lib\\site-packages\\IPython\\kernel\\__main__.py:8: ComplexWarning: Casting complex values to real discards the imaginary part\n"
     ]
    }
   ],
   "source": [
    "pajek_us_air = nx.read_pajek('./netws/pajekds/USAir97.net')\n",
    "fixed_pajek_us_air = nx.Graph(nx.convert_node_labels_to_integers(pajek_us_air, first_label = 0))\n",
    "df2.loc['pajek_us_air'] = run_global_similarity_indices(fixed_pajek_us_air)"
   ]
  },
  {
   "cell_type": "code",
   "execution_count": 20,
   "metadata": {
    "collapsed": false
   },
   "outputs": [
    {
     "data": {
      "text/html": [
       "<div style=\"max-height:1000px;max-width:1500px;overflow:auto;\">\n",
       "<table border=\"1\" class=\"dataframe\">\n",
       "  <thead>\n",
       "    <tr style=\"text-align: right;\">\n",
       "      <th></th>\n",
       "      <th>KI</th>\n",
       "      <th>LHN2</th>\n",
       "      <th>ACT</th>\n",
       "      <th>CBL</th>\n",
       "      <th>RWR</th>\n",
       "      <th>MFI</th>\n",
       "    </tr>\n",
       "  </thead>\n",
       "  <tbody>\n",
       "    <tr>\n",
       "      <th>karate club</th>\n",
       "      <td> 0.755219</td>\n",
       "      <td> 0.610452</td>\n",
       "      <td> 0.666190</td>\n",
       "      <td> 0.735803</td>\n",
       "      <td> 0.619955</td>\n",
       "      <td> 0.748715</td>\n",
       "    </tr>\n",
       "    <tr>\n",
       "      <th>pajek football</th>\n",
       "      <td> 0.724598</td>\n",
       "      <td> 0.521484</td>\n",
       "      <td> 0.747681</td>\n",
       "      <td> 0.596968</td>\n",
       "      <td> 0.746666</td>\n",
       "      <td> 0.679982</td>\n",
       "    </tr>\n",
       "    <tr>\n",
       "      <th>pajek_us_air</th>\n",
       "      <td> 0.919737</td>\n",
       "      <td>      NaN</td>\n",
       "      <td> 0.891851</td>\n",
       "      <td> 0.904232</td>\n",
       "      <td> 0.832092</td>\n",
       "      <td> 0.912749</td>\n",
       "    </tr>\n",
       "  </tbody>\n",
       "</table>\n",
       "</div>"
      ],
      "text/plain": [
       "                      KI      LHN2       ACT       CBL       RWR       MFI\n",
       "karate club     0.755219  0.610452  0.666190  0.735803  0.619955  0.748715\n",
       "pajek football  0.724598  0.521484  0.747681  0.596968  0.746666  0.679982\n",
       "pajek_us_air    0.919737       NaN  0.891851  0.904232  0.832092  0.912749"
      ]
     },
     "execution_count": 20,
     "metadata": {},
     "output_type": "execute_result"
    }
   ],
   "source": [
    "df2"
   ]
  },
  {
   "cell_type": "code",
   "execution_count": 21,
   "metadata": {
    "collapsed": true
   },
   "outputs": [],
   "source": [
    "df2.to_csv('first_three_global.csv')"
   ]
  },
  {
   "cell_type": "markdown",
   "metadata": {},
   "source": [
    "###Quasi-local indices"
   ]
  },
  {
   "cell_type": "markdown",
   "metadata": {},
   "source": [
    "####1.Local Path Index (LP)\n",
    "To provide a good tradeoff of accuracy and computational complexity, we here introduce an index that takes consideration of local paths, with wider horizon than CN. It is defined as\n",
    "$$S^{LP} = A^2 + \\epsilon A^3,$$\n",
    "where $\\epsilon$ is a free parameter. Clearly, this measure degenerates to CN when $\\epsilon = 0$. And if $x$ and $y$ are not directly connected (this is the case we are interested in), $(A^3)_{xy}$ is equal to the number of different paths with length 3 connecting $x$ and $y$. This index can be extended to account for higher-order paths, as\n",
    "$$S^{LP(n)} = A^2 + \\epsilon A^3 + \\epsilon^2 A^4 + \\cdots + \\epsilon^{n-2} A^n,$$\n",
    "where $n > 2$ is the maximal order. With the increasing of $n$, this index asks for more information and computation. Especially, when $n \\rightarrow \\infty$, $S^{LP(n)}$ will be equivalent to the Katz index that takes into account all paths in the network. The computational complexity of this index in an uncorrelated network is $\\mathbb{O}(N⟨k⟩^n)$, which grows fast with the increasing of n and will exceed the complexity for calculating the Katz index (approximate to $\\mathbb{O}(N^3)$) for large $n$. Experimental results show that the optimal $n$ is positively correlated with the average shortest distance of the network."
   ]
  },
  {
   "cell_type": "code",
   "execution_count": 86,
   "metadata": {
    "collapsed": true
   },
   "outputs": [],
   "source": [
    "def local_path_index(folds, subs, epsilon = 0.01, symmetric = True, nfolds = 10):\n",
    "    nmis = len(folds[0])\n",
    "    step = 0\n",
    "    auc = []\n",
    "    for i in subs:\n",
    "        mat = np.array((nx.to_numpy_matrix(i) != 0) * 1.)\n",
    "        sim = mat.dot(mat) + epsilon*mat.dot(mat.dot(mat))\n",
    "        edgesWithScore = {}\n",
    "        edges = nx.non_edges(i)\n",
    "        for e in edges:\n",
    "            edgesWithScore[e] = sim[e[0]][e[1]]\n",
    "        highScore = 0\n",
    "        sameScore = 0\n",
    "        allScore = 0\n",
    "        for e in edgesWithScore:\n",
    "            if e not in folds[step]:\n",
    "                for s in folds[step]:\n",
    "                    if edgesWithScore[e] < edgesWithScore[s]:\n",
    "                        highScore += 1\n",
    "                    elif edgesWithScore[e] == edgesWithScore[s]:\n",
    "                        sameScore += 1\n",
    "                    allScore += 1\n",
    "        auc.append(float(highScore + 0.5*sameScore)/float(allScore))\n",
    "        step += 1\n",
    "\n",
    "    return np.mean(auc)"
   ]
  },
  {
   "cell_type": "code",
   "execution_count": 87,
   "metadata": {
    "collapsed": false
   },
   "outputs": [
    {
     "data": {
      "text/plain": [
       "0.7620101301390122"
      ]
     },
     "execution_count": 87,
     "metadata": {},
     "output_type": "execute_result"
    }
   ],
   "source": [
    "local_path_index(folds, subs)"
   ]
  },
  {
   "cell_type": "markdown",
   "metadata": {},
   "source": [
    "####2. Local Random Walk (LRW)\n",
    "To measure the similarity between nodes $x$ and $y$, a random walker is initially put on node $x$ and thus the initial density vector $\\pi_x(0) = e_x$. This density vector evolves as $\\pi_x(t + 1) = P^T \\pi_x(t)$ for $t \\geq 0$. The LRW index at time step $t$ is thus defined as\n",
    "$$s_{xy}^{LRW} (t) = q_x \\pi_{xy}(t) + q_y \\pi_{yx} (t).$$\n",
    "where $q$ is the initial configuration function. "
   ]
  },
  {
   "cell_type": "markdown",
   "metadata": {},
   "source": [
    "####3. Superposed Random Walk (SRW)\n",
    "Similar to the RWR index, Liu and Lü proposed the SRW index, where the random walker is continuously released at the starting point, resulting in a higher similarity between the target node and the nodes nearby. The mathematical expression reads\n",
    "$$s_{xy}^{SRW}(t) = \\sum_{\\tau = 1}^t s_{xy}^{LRW} = \\sum_{\\tau = 1}^t q_x \\pi_{xy}(\\tau) + q_y \\pi_{yx} (\\tau),$$\n",
    "where $t$ denotes the time steps."
   ]
  },
  {
   "cell_type": "code",
   "execution_count": null,
   "metadata": {
    "collapsed": true
   },
   "outputs": [],
   "source": []
  }
 ],
 "metadata": {
  "kernelspec": {
   "display_name": "Python 2",
   "language": "python",
   "name": "python2"
  },
  "language_info": {
   "codemirror_mode": {
    "name": "ipython",
    "version": 2
   },
   "file_extension": ".py",
   "mimetype": "text/x-python",
   "name": "python",
   "nbconvert_exporter": "python",
   "pygments_lexer": "ipython2",
   "version": "2.7.8"
  }
 },
 "nbformat": 4,
 "nbformat_minor": 0
}
